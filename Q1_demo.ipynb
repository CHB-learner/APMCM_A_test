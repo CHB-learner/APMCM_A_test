{
 "cells": [
  {
   "cell_type": "code",
   "execution_count": 1,
   "metadata": {},
   "outputs": [
    {
     "ename": "ModuleNotFoundError",
     "evalue": "No module named 'cv2'",
     "output_type": "error",
     "traceback": [
      "\u001b[1;31m---------------------------------------------------------------------------\u001b[0m",
      "\u001b[1;31mModuleNotFoundError\u001b[0m                       Traceback (most recent call last)",
      "\u001b[1;32md:\\备份资料\\大三上\\比     赛\\大数据基础应用\\Q1.ipynb 单元格 1\u001b[0m line \u001b[0;36m1\n\u001b[1;32m----> <a href='vscode-notebook-cell:/d%3A/%E5%A4%87%E4%BB%BD%E8%B5%84%E6%96%99/%E5%A4%A7%E4%B8%89%E4%B8%8A/%E6%AF%94%20%20%20%20%20%E8%B5%9B/%E5%A4%A7%E6%95%B0%E6%8D%AE%E5%9F%BA%E7%A1%80%E5%BA%94%E7%94%A8/Q1.ipynb#W0sZmlsZQ%3D%3D?line=0'>1</a>\u001b[0m \u001b[39mimport\u001b[39;00m \u001b[39mcv2\u001b[39;00m\n\u001b[0;32m      <a href='vscode-notebook-cell:/d%3A/%E5%A4%87%E4%BB%BD%E8%B5%84%E6%96%99/%E5%A4%A7%E4%B8%89%E4%B8%8A/%E6%AF%94%20%20%20%20%20%E8%B5%9B/%E5%A4%A7%E6%95%B0%E6%8D%AE%E5%9F%BA%E7%A1%80%E5%BA%94%E7%94%A8/Q1.ipynb#W0sZmlsZQ%3D%3D?line=1'>2</a>\u001b[0m \u001b[39mimport\u001b[39;00m \u001b[39mnumpy\u001b[39;00m \u001b[39mas\u001b[39;00m \u001b[39mnp\u001b[39;00m\n\u001b[0;32m      <a href='vscode-notebook-cell:/d%3A/%E5%A4%87%E4%BB%BD%E8%B5%84%E6%96%99/%E5%A4%A7%E4%B8%89%E4%B8%8A/%E6%AF%94%20%20%20%20%20%E8%B5%9B/%E5%A4%A7%E6%95%B0%E6%8D%AE%E5%9F%BA%E7%A1%80%E5%BA%94%E7%94%A8/Q1.ipynb#W0sZmlsZQ%3D%3D?line=2'>3</a>\u001b[0m \u001b[39mimport\u001b[39;00m \u001b[39mpytesseract\u001b[39;00m \u001b[39mas\u001b[39;00m \u001b[39mpt\u001b[39;00m\n",
      "\u001b[1;31mModuleNotFoundError\u001b[0m: No module named 'cv2'"
     ]
    }
   ],
   "source": [
    "import cv2\n",
    "import numpy as np\n",
    "import pytesseract as pt\n",
    "import matplotlib.pyplot as plt\n",
    "import re\n",
    "import pandas as pd\n",
    "import os"
   ]
  },
  {
   "cell_type": "code",
   "execution_count": null,
   "metadata": {},
   "outputs": [],
   "source": [
    "images = r'\\Attachment 1'\n",
    "data = []\n",
    "shijian = []\n",
    "t1=[]\n",
    "t2=[]\n",
    "i = 0\n",
    "for image in os.listdir(images):\n",
    "        i = i + 1\n",
    "        if i >8:\n",
    "            break\n",
    "        else:\n",
    "            img = cv2.imread(image, 0)\n",
    "            plt.imshow(img, cmap='gray', interpolation='bicubic')\n",
    "            text = pt.image_to_string(img, lang=\"chi_sim\")\n",
    "            line = text.strip('\\n')\n",
    "            number = re.findall(\"\\d+\", line)\n",
    "            print(i)\n",
    "            print(number)\n",
    "            if len(number) >2:\n",
    "                shijian.append(str(number[0]))\n",
    "                t1.append(str(number[2]))\n",
    "                t2.append(str(number[4]))\n",
    "            else:\n",
    "                shijian.append(0)\n",
    "                t1.append(0)\n",
    "                t2.append(0)\n",
    "\n",
    "shu= pd.DataFrame({\"秒\": shijian,\"t1\":t1, \"t2\":t2})\n",
    "shu.to_excel(\"数据.xlsx\", sheet_name=\"数据1\", index=False)\n"
   ]
  }
 ],
 "metadata": {
  "kernelspec": {
   "display_name": "Python 3",
   "language": "python",
   "name": "python3"
  },
  "language_info": {
   "codemirror_mode": {
    "name": "ipython",
    "version": 3
   },
   "file_extension": ".py",
   "mimetype": "text/x-python",
   "name": "python",
   "nbconvert_exporter": "python",
   "pygments_lexer": "ipython3",
   "version": "3.10.9"
  }
 },
 "nbformat": 4,
 "nbformat_minor": 2
}
